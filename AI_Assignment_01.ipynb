{
 "cells": [
  {
   "cell_type": "markdown",
   "id": "fac7315f-2f3c-4bde-a447-c4bb6fb1ab22",
   "metadata": {},
   "source": [
    "# ***Assignment Artificial Intelligence***"
   ]
  },
  {
   "cell_type": "markdown",
   "id": "e5352a5c-fda3-4137-a141-ec61ac983544",
   "metadata": {},
   "source": [
    "# *Syed Nasir Ali Shah - 237026*"
   ]
  },
  {
   "cell_type": "code",
   "execution_count": 1,
   "id": "44bba50e-d4cb-444d-9f31-1cd96c56709e",
   "metadata": {},
   "outputs": [
    {
     "name": "stdout",
     "output_type": "stream",
     "text": [
      "15\n",
      "<class 'int'>\n",
      "<class 'float'>\n",
      "<class 'str'>\n",
      "<class 'list'>\n"
     ]
    }
   ],
   "source": [
    "# Q1: casting and type() Function in Python\n",
    "\n",
    "x = \"5\"\n",
    "y = int(x) + 10\n",
    "print(y)\n",
    "\n",
    "x = 42\n",
    "print(type(x))\n",
    "\n",
    "y = .43\n",
    "print(type(y))\n",
    "\n",
    "z = \"word\"\n",
    "print(type(z))\n",
    "\n",
    "mylist = [1, 2, 3]\n",
    "print(type(mylist))"
   ]
  },
  {
   "cell_type": "code",
   "execution_count": 23,
   "id": "d4f95ec5-68bb-44cb-9065-7841e62040db",
   "metadata": {},
   "outputs": [
    {
     "name": "stdout",
     "output_type": "stream",
     "text": [
      "banana apple\n",
      "apple banana cherry \n",
      "Fruits after adding mango and apple ['apple', 'apple', 'banana', 'cherry', 'mango']\n",
      "fruits after removing one apple ['apple', 'banana', 'cherry', 'mango']\n",
      "sorted list [1, 2, 5, 9]\n",
      "sorted list in desc [9, 5, 2, 1]\n",
      "['apple', 'banana', 'cherry', 'mango']\n",
      "list of evens [2]\n"
     ]
    }
   ],
   "source": [
    "# Q2: Using List in Python\n",
    "\n",
    "fruits = [\"apple\", \"banana\", \"cherry\"]\n",
    "\n",
    "print(fruits[1], fruits[0])\n",
    "\n",
    "# Loops\n",
    "for fruit in fruits:\n",
    "    print(fruit, end = \" \")\n",
    "\n",
    "# Add Items\n",
    "print()\n",
    "fruits.append(\"mango\")\n",
    "fruits.insert(1, \"apple\")\n",
    "print(\"Fruits after adding mango and apple\",fruits)\n",
    "\n",
    "# Remove\n",
    "fruits.remove(\"apple\")\n",
    "print(\"fruits after removing one apple\",fruits)\n",
    "\n",
    "# Sorting\n",
    "numbers = [5, 2, 9, 1]\n",
    "numbers.sort()\n",
    "print(\"sorted list\",numbers)  \n",
    "\n",
    "numbers.sort(reverse=True)\n",
    "print(\"sorted list in desc\",numbers) \n",
    "\n",
    "# Copying list\n",
    "copiedList = fruits.copy()\n",
    "print(copiedList)\n",
    "\n",
    "# List Comprehension\n",
    "evens = [x for x in numbers if x % 2 == 0]\n",
    "print(\"list of evens\", evens)"
   ]
  },
  {
   "cell_type": "code",
   "execution_count": 28,
   "id": "b5ed2633-7569-494b-bae3-75adac9de399",
   "metadata": {},
   "outputs": [
    {
     "name": "stdout",
     "output_type": "stream",
     "text": [
      "red\n",
      "blue\n",
      "red  green  blue  \n",
      "Joined tuple1 and tuple2 (1, 2, 3, 4)\n",
      "tuple after updating item 1 to yellow ('red', 'yellow', 'blue')\n",
      "Alice\n",
      "25\n",
      "Engineer\n",
      "Count 2 in tuple numbers: 2\n",
      "index of item 3 in tuple: 3\n"
     ]
    }
   ],
   "source": [
    "# Q3: Tuples in python\n",
    "\n",
    "colors = (\"red\", \"green\", \"blue\")\n",
    "\n",
    "print(colors[0])\n",
    "print(colors[-1])\n",
    "\n",
    "# Looping\n",
    "for color in colors:\n",
    "    print(color, end = \"  \")\n",
    "\n",
    "# Joining two tuples\n",
    "print()\n",
    "tuple1 = (1, 2)\n",
    "tuple2 = (3, 4)\n",
    "\n",
    "joined = tuple1 + tuple2\n",
    "print(\"Joined tuple1 and tuple2\",joined)\n",
    "\n",
    "# Update items in a tuple\n",
    "colors_list = list(colors)\n",
    "colors_list[1] = \"yellow\"\n",
    "colors = tuple(colors_list)\n",
    "print(\"tuple after updating item 1 to yellow\",colors)\n",
    "\n",
    "# Upacking\n",
    "person = (\"Alice\", 25, \"Engineer\")\n",
    "\n",
    "name, age, job = person\n",
    "print(name)\n",
    "print(age)  \n",
    "print(job)\n",
    "\n",
    "#some method of tuple\n",
    "\n",
    "numbers = (1, 2, 2, 3, 4)\n",
    "print(f\"Count 2 in tuple numbers: {numbers.count(2)}\")\n",
    "print(f\"index of item 3 in tuple: {numbers.index(3)}\")"
   ]
  },
  {
   "cell_type": "code",
   "execution_count": 30,
   "id": "bffad515-eaf4-4136-bdad-f63423e54a81",
   "metadata": {},
   "outputs": [
    {
     "name": "stdout",
     "output_type": "stream",
     "text": [
      "After adding cherry to fruits set:  {'cherry', 'apple', 'banana'}\n",
      "Union of two sets {1, 2, 3, 4, 5}\n",
      "Difference of two sets {1}\n",
      "Copied set  {1, 2, 3}\n"
     ]
    }
   ],
   "source": [
    "# Q4 Different set methods\n",
    "\n",
    "fruits = {\"apple\", \"banana\"}\n",
    "fruits.add(\"cherry\")\n",
    "print(\"After adding cherry to fruits set: \",fruits) \n",
    "\n",
    "a = {1, 2, 3}\n",
    "b = {3, 4, 5}\n",
    "result = a.union(b)\n",
    "print(\"Union of two sets\",result)\n",
    "\n",
    "a = {1, 2, 3}\n",
    "b = {2, 3, 4}\n",
    "print(\"Difference of two sets\", a.difference(b))\n",
    "\n",
    "original = {1, 2, 3}\n",
    "copy_set = original.copy()\n",
    "print(\"Copied set \",copy_set) "
   ]
  },
  {
   "cell_type": "code",
   "execution_count": 33,
   "id": "0a76b23a-bb27-49d0-9bae-fb24e455d306",
   "metadata": {},
   "outputs": [
    {
     "name": "stdout",
     "output_type": "stream",
     "text": [
      "array('i', [1, 2, 3, 4])\n",
      "After adding 40 array('i', [1, 2, 3, 4, 40])\n"
     ]
    }
   ],
   "source": [
    "# Q5 Array in python---used to store items of same type\n",
    "\n",
    "import array\n",
    "\n",
    "numbers = array.array('i', [1, 2, 3, 4])\n",
    "print(numbers)\n",
    "\n",
    "\n",
    "numbers.append(40)\n",
    "print(\"After adding 40\",numbers)"
   ]
  },
  {
   "cell_type": "code",
   "execution_count": 35,
   "id": "2ee13b3d-eb76-4ecb-9aa5-06fd72c3434c",
   "metadata": {},
   "outputs": [
    {
     "name": "stdout",
     "output_type": "stream",
     "text": [
      "Current shopping list:\n",
      "- milk\n",
      "- bread\n",
      "- eggs\n",
      "- butter\n",
      "- juice\n",
      "- sugar\n",
      "- salt\n",
      "- biscuits\n",
      "- tea\n",
      "- coffee\n"
     ]
    },
    {
     "name": "stdin",
     "output_type": "stream",
     "text": [
      "\n",
      "Do you want to add a new item? (yes/no):  yes\n",
      "Enter the item to add:  sugar\n",
      "\n",
      "Do you want to remove an item? (yes/no):  no\n"
     ]
    },
    {
     "name": "stdout",
     "output_type": "stream",
     "text": [
      "\n",
      "Updated shopping list:\n",
      "- milk\n",
      "- bread\n",
      "- eggs\n",
      "- butter\n",
      "- juice\n",
      "- sugar\n",
      "- salt\n",
      "- biscuits\n",
      "- tea\n",
      "- coffee\n",
      "- sugar\n"
     ]
    }
   ],
   "source": [
    "\"\"\" Q6: A list named shopping_list like shopping_list = [\"milk\", \"bread\", \n",
    "\"eggs\", \"butter\", \"juice\", \"sugar\", \"salt\", \"biscuits\", \"tea\", \"coffee\"] \n",
    "is given with some initial items. \n",
    "Write a Python program to do the following: \n",
    "1. Display all items using a loop \n",
    "2. Ask the user if they want to add a new item \n",
    " If yes, add the item to the list \n",
    "3. Ask the user if they want to remove any item \n",
    " If the item exists, remove it \n",
    " Otherwise, print \"Item not found\" \n",
    "4. Finally, display the updated list \"\"\"\n",
    "\n",
    "\n",
    "shopping_list = [\"milk\", \"bread\", \n",
    "\"eggs\", \"butter\", \"juice\", \"sugar\", \"salt\", \"biscuits\", \"tea\", \"coffee\"]\n",
    "print(\"Current shopping list:\")\n",
    "for item in shopping_list:\n",
    "    print(\"-\", item)\n",
    "\n",
    "add_item = input(\"\\nDo you want to add a new item? (yes/no): \").strip().lower()\n",
    "if add_item == \"yes\":\n",
    "    new_item = input(\"Enter the item to add: \").strip()\n",
    "    shopping_list.append(new_item)\n",
    "\n",
    "remove_item = input(\"\\nDo you want to remove an item? (yes/no): \").strip().lower()\n",
    "if remove_item == \"yes\":\n",
    "    item_to_remove = input(\"Enter the item to remove: \").strip()\n",
    "    if item_to_remove in shopping_list:\n",
    "        shopping_list.remove(item_to_remove)\n",
    "    else:\n",
    "        print(\"Item not found.\")\n",
    "\n",
    "print(\"\\nUpdated shopping list:\")\n",
    "for item in shopping_list:\n",
    "    print(\"-\", item)\n"
   ]
  },
  {
   "cell_type": "code",
   "execution_count": 36,
   "id": "ee67726b-cf2e-47af-8d8f-8f57ae7a7c44",
   "metadata": {},
   "outputs": [
    {
     "name": "stdout",
     "output_type": "stream",
     "text": [
      "The number is odd\n",
      "The number is even\n"
     ]
    }
   ],
   "source": [
    "# Q7: even_odd_checker function\n",
    "\n",
    "def check_even_odd(number):\n",
    "    if number % 2 == 0:\n",
    "        print(\"The number is even\")\n",
    "    else:\n",
    "        print(\"The number is odd\")\n",
    "\n",
    "check_even_odd(1)\n",
    "check_even_odd(2)\n"
   ]
  },
  {
   "cell_type": "code",
   "execution_count": 37,
   "id": "2553caf1-36f3-4648-b1b4-963f0419f4b8",
   "metadata": {},
   "outputs": [
    {
     "name": "stdout",
     "output_type": "stream",
     "text": [
      "Square root: 4.0\n"
     ]
    }
   ],
   "source": [
    "# Q8 Module in python\n",
    "import math\n",
    "\n",
    "num = 16\n",
    "print(\"Square root:\", math.sqrt(num))\n",
    "# we can also use custom created module in out python file"
   ]
  },
  {
   "cell_type": "code",
   "execution_count": 38,
   "id": "8adaaef2-ebfa-476c-a757-fa3767baea28",
   "metadata": {},
   "outputs": [
    {
     "name": "stdout",
     "output_type": "stream",
     "text": [
      "First mark: 65\n",
      "Last mark: 85\n",
      "Unpacked marks: 65 70 75 80 85\n",
      "Original marks: (65, 70, 75, 80, 85)\n",
      "New marks (+5 each): (70, 75, 80, 85, 90)\n"
     ]
    }
   ],
   "source": [
    "\"\"\"Q9: You have a tuple containing students’ marks: \n",
    "I. Print the first and last elements of the tuple. \n",
    "II. Unpack the tuple elements into separate variables (e.g., m1, \n",
    "m2, m3, m4, m5). \n",
    "III. Create a new tuple by adding 5 marks to each element of the \n",
    "original tuple. (Remember, tuples are immutable, so create a \n",
    "new tuple.) \n",
    "IV. Print both the original and the new tuples. \"\"\"\n",
    "\n",
    "marks = (65, 70, 75, 80, 85)\n",
    "print(\"First mark:\", marks[0])\n",
    "print(\"Last mark:\", marks[-1])\n",
    "m1, m2, m3, m4, m5 = marks\n",
    "print(\"Unpacked marks:\", m1, m2, m3, m4, m5)\n",
    "new_marks = tuple(mark + 5 for mark in marks)\n",
    "print(\"Original marks:\", marks)\n",
    "print(\"New marks (+5 each):\", new_marks)\n"
   ]
  },
  {
   "cell_type": "code",
   "execution_count": 39,
   "id": "64af3e71-c79c-4ec6-bb01-3a606bcd4226",
   "metadata": {},
   "outputs": [
    {
     "name": "stdout",
     "output_type": "stream",
     "text": [
      "5 is odd and not divisible by 3\n",
      "12 is divisible by 3\n",
      "7 is odd and not divisible by 3\n",
      "18 is divisible by 3\n",
      "9 is divisible by 3\n",
      "24 is divisible by 3\n",
      "3 is divisible by 3\n",
      "16 is even but not divisible by 3\n",
      "11 is odd and not divisible by 3\n",
      "\n",
      "Summary:\n",
      "Numbers divisible by 3: 5\n",
      "Numbers even but not divisible by 3: 1\n",
      "Numbers odd and not divisible by 3: 3\n"
     ]
    }
   ],
   "source": [
    "\"\"\"Q10: Takes a list of numbers: \n",
    "numbers = [5, 12, 7, 18, 9, 24, 3, 16, 11] \n",
    "• Loops through each number and: \n",
    "• If the number is divisible by 3, print \"X is divisible by 3\" \n",
    "• Else if the number is even, print \"X is even but not divisible by \n",
    "3\" \n",
    "• Else print \"X is odd and not divisible by 3\" \n",
    "• At the end, print how many numbers were divisible by 3, how \n",
    "many were even (but not divisible by 3), and how many were \n",
    "odd (and not divisible by 3). \"\"\"\n",
    "\n",
    "numbers = [5, 12, 7, 18, 9, 24, 3, 16, 11]\n",
    "\n",
    "count_div3 = 0\n",
    "count_even_not_div3 = 0\n",
    "count_odd_not_div3 = 0\n",
    "\n",
    "for x in numbers:\n",
    "    if x % 3 == 0:\n",
    "        print(f\"{x} is divisible by 3\")\n",
    "        count_div3 += 1\n",
    "    elif x % 2 == 0:\n",
    "        print(f\"{x} is even but not divisible by 3\")\n",
    "        count_even_not_div3 += 1\n",
    "    else:\n",
    "        print(f\"{x} is odd and not divisible by 3\")\n",
    "        count_odd_not_div3 += 1\n",
    "\n",
    "print(\"\\nSummary:\")\n",
    "print(f\"Numbers divisible by 3: {count_div3}\")\n",
    "print(f\"Numbers even but not divisible by 3: {count_even_not_div3}\")\n",
    "print(f\"Numbers odd and not divisible by 3: {count_odd_not_div3}\")\n"
   ]
  },
  {
   "cell_type": "code",
   "execution_count": 40,
   "id": "ab8cc2c8-a337-40ad-9218-a23770b6c6a3",
   "metadata": {},
   "outputs": [
    {
     "name": "stdout",
     "output_type": "stream",
     "text": [
      "10 is positive\n",
      "-5 is negative\n",
      "0 is zero\n",
      "3 is positive\n",
      "-1 is negative\n",
      "0 is zero\n",
      "7 is positive\n",
      "\n",
      "Counts: {'positive': 3, 'zero': 2, 'negative': 2}\n"
     ]
    }
   ],
   "source": [
    "\"\"\"Q11: Write a function named classify_numbers that: \n",
    "1. Takes a list of numbers as input. \n",
    "2. Loops through each number in the list and: \n",
    " Prints \"X is positive\" if the number is greater than zero \n",
    " Prints \"X is zero\" if the number is zero \n",
    " Prints \"X is negative\" if the number is less than zero \n",
    "3. Returns a dictionary with counts of positive, zero, and negative \n",
    "numbers.\"\"\"\n",
    "\n",
    "def classify_numbers(numbers):\n",
    "    counts = {\"positive\": 0, \"zero\": 0, \"negative\": 0}\n",
    "\n",
    "    for num in numbers:\n",
    "        if num > 0:\n",
    "            print(f\"{num} is positive\")\n",
    "            counts[\"positive\"] += 1\n",
    "        elif num == 0:\n",
    "            print(f\"{num} is zero\")\n",
    "            counts[\"zero\"] += 1\n",
    "        else:\n",
    "            print(f\"{num} is negative\")\n",
    "            counts[\"negative\"] += 1\n",
    "\n",
    "    return counts\n",
    "\n",
    "nums = [10, -5, 0, 3, -1, 0, 7]\n",
    "result = classify_numbers(nums)\n",
    "print(\"\\nCounts:\", result)\n"
   ]
  },
  {
   "cell_type": "code",
   "execution_count": null,
   "id": "7a93386e-1165-4bfe-b3cb-6cd7307767ad",
   "metadata": {},
   "outputs": [],
   "source": []
  }
 ],
 "metadata": {
  "kernelspec": {
   "display_name": "Python 3 (ipykernel)",
   "language": "python",
   "name": "python3"
  },
  "language_info": {
   "codemirror_mode": {
    "name": "ipython",
    "version": 3
   },
   "file_extension": ".py",
   "mimetype": "text/x-python",
   "name": "python",
   "nbconvert_exporter": "python",
   "pygments_lexer": "ipython3",
   "version": "3.12.7"
  }
 },
 "nbformat": 4,
 "nbformat_minor": 5
}
